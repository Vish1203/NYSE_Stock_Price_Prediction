{
 "cells": [
  {
   "cell_type": "code",
   "execution_count": 2,
   "metadata": {
    "_cell_guid": "b1076dfc-b9ad-4769-8c92-a6c4dae69d19",
    "_uuid": "8f2839f25d086af736a60e9eeb907d3b93b6e0e5",
    "execution": {
     "iopub.execute_input": "2021-12-06T02:04:59.443591Z",
     "iopub.status.busy": "2021-12-06T02:04:59.443190Z",
     "iopub.status.idle": "2021-12-06T02:04:59.457132Z",
     "shell.execute_reply": "2021-12-06T02:04:59.456143Z",
     "shell.execute_reply.started": "2021-12-06T02:04:59.443545Z"
    }
   },
   "outputs": [],
   "source": [
    "# This Python 3 environment comes with many helpful analytics libraries installed\n",
    "# It is defined by the kaggle/python Docker image: https://github.com/kaggle/docker-python\n",
    "# For example, here's several helpful packages to load\n",
    "\n",
    "import numpy as np # linear algebra\n",
    "import pandas as pd # data processing, CSV file I/O (e.g. pd.read_csv)\n",
    "\n",
    "# Input data files are available in the read-only \"../input/\" directory\n",
    "# For example, running this (by clicking run or pressing Shift+Enter) will list all files under the input directory\n",
    "\n",
    "import os\n",
    "for dirname, _, filenames in os.walk('/kaggle/input'):\n",
    "    for filename in filenames:\n",
    "        print(os.path.join(dirname, filename))\n",
    "\n",
    "# You can write up to 20GB to the current directory (/kaggle/working/) that gets preserved as output when you create a version using \"Save & Run All\" \n",
    "# You can also write temporary files to /kaggle/temp/, but they won't be saved outside of the current session"
   ]
  },
  {
   "cell_type": "code",
   "execution_count": 3,
   "metadata": {
    "execution": {
     "iopub.execute_input": "2021-12-06T02:05:01.629365Z",
     "iopub.status.busy": "2021-12-06T02:05:01.628787Z",
     "iopub.status.idle": "2021-12-06T02:05:02.999682Z",
     "shell.execute_reply": "2021-12-06T02:05:02.998694Z",
     "shell.execute_reply.started": "2021-12-06T02:05:01.629320Z"
    }
   },
   "outputs": [],
   "source": [
    "df=pd.read_csv(r'C:\\Users\\nazia\\Downloads\\archive\\prices.csv')"
   ]
  },
  {
   "cell_type": "code",
   "execution_count": 4,
   "metadata": {
    "execution": {
     "iopub.execute_input": "2021-12-06T02:05:06.744191Z",
     "iopub.status.busy": "2021-12-06T02:05:06.743904Z",
     "iopub.status.idle": "2021-12-06T02:05:06.770554Z",
     "shell.execute_reply": "2021-12-06T02:05:06.769620Z",
     "shell.execute_reply.started": "2021-12-06T02:05:06.744162Z"
    }
   },
   "outputs": [
    {
     "data": {
      "text/html": [
       "<div>\n",
       "<style scoped>\n",
       "    .dataframe tbody tr th:only-of-type {\n",
       "        vertical-align: middle;\n",
       "    }\n",
       "\n",
       "    .dataframe tbody tr th {\n",
       "        vertical-align: top;\n",
       "    }\n",
       "\n",
       "    .dataframe thead th {\n",
       "        text-align: right;\n",
       "    }\n",
       "</style>\n",
       "<table border=\"1\" class=\"dataframe\">\n",
       "  <thead>\n",
       "    <tr style=\"text-align: right;\">\n",
       "      <th></th>\n",
       "      <th>date</th>\n",
       "      <th>symbol</th>\n",
       "      <th>open</th>\n",
       "      <th>close</th>\n",
       "      <th>low</th>\n",
       "      <th>high</th>\n",
       "      <th>volume</th>\n",
       "    </tr>\n",
       "  </thead>\n",
       "  <tbody>\n",
       "    <tr>\n",
       "      <th>0</th>\n",
       "      <td>2016-01-05 00:00:00</td>\n",
       "      <td>WLTW</td>\n",
       "      <td>123.430000</td>\n",
       "      <td>125.839996</td>\n",
       "      <td>122.309998</td>\n",
       "      <td>126.250000</td>\n",
       "      <td>2163600.0</td>\n",
       "    </tr>\n",
       "    <tr>\n",
       "      <th>1</th>\n",
       "      <td>2016-01-06 00:00:00</td>\n",
       "      <td>WLTW</td>\n",
       "      <td>125.239998</td>\n",
       "      <td>119.980003</td>\n",
       "      <td>119.940002</td>\n",
       "      <td>125.540001</td>\n",
       "      <td>2386400.0</td>\n",
       "    </tr>\n",
       "    <tr>\n",
       "      <th>2</th>\n",
       "      <td>2016-01-07 00:00:00</td>\n",
       "      <td>WLTW</td>\n",
       "      <td>116.379997</td>\n",
       "      <td>114.949997</td>\n",
       "      <td>114.930000</td>\n",
       "      <td>119.739998</td>\n",
       "      <td>2489500.0</td>\n",
       "    </tr>\n",
       "    <tr>\n",
       "      <th>3</th>\n",
       "      <td>2016-01-08 00:00:00</td>\n",
       "      <td>WLTW</td>\n",
       "      <td>115.480003</td>\n",
       "      <td>116.620003</td>\n",
       "      <td>113.500000</td>\n",
       "      <td>117.440002</td>\n",
       "      <td>2006300.0</td>\n",
       "    </tr>\n",
       "    <tr>\n",
       "      <th>4</th>\n",
       "      <td>2016-01-11 00:00:00</td>\n",
       "      <td>WLTW</td>\n",
       "      <td>117.010002</td>\n",
       "      <td>114.970001</td>\n",
       "      <td>114.089996</td>\n",
       "      <td>117.330002</td>\n",
       "      <td>1408600.0</td>\n",
       "    </tr>\n",
       "  </tbody>\n",
       "</table>\n",
       "</div>"
      ],
      "text/plain": [
       "                  date symbol        open       close         low        high  \\\n",
       "0  2016-01-05 00:00:00   WLTW  123.430000  125.839996  122.309998  126.250000   \n",
       "1  2016-01-06 00:00:00   WLTW  125.239998  119.980003  119.940002  125.540001   \n",
       "2  2016-01-07 00:00:00   WLTW  116.379997  114.949997  114.930000  119.739998   \n",
       "3  2016-01-08 00:00:00   WLTW  115.480003  116.620003  113.500000  117.440002   \n",
       "4  2016-01-11 00:00:00   WLTW  117.010002  114.970001  114.089996  117.330002   \n",
       "\n",
       "      volume  \n",
       "0  2163600.0  \n",
       "1  2386400.0  \n",
       "2  2489500.0  \n",
       "3  2006300.0  \n",
       "4  1408600.0  "
      ]
     },
     "execution_count": 4,
     "metadata": {},
     "output_type": "execute_result"
    }
   ],
   "source": [
    "df.head()"
   ]
  },
  {
   "cell_type": "code",
   "execution_count": 5,
   "metadata": {
    "execution": {
     "iopub.execute_input": "2021-12-06T02:05:15.329042Z",
     "iopub.status.busy": "2021-12-06T02:05:15.328738Z",
     "iopub.status.idle": "2021-12-06T02:05:15.535837Z",
     "shell.execute_reply": "2021-12-06T02:05:15.534960Z",
     "shell.execute_reply.started": "2021-12-06T02:05:15.329009Z"
    }
   },
   "outputs": [
    {
     "data": {
      "text/plain": [
       "date      0\n",
       "symbol    0\n",
       "open      0\n",
       "close     0\n",
       "low       0\n",
       "high      0\n",
       "volume    0\n",
       "dtype: int64"
      ]
     },
     "execution_count": 5,
     "metadata": {},
     "output_type": "execute_result"
    }
   ],
   "source": [
    "df.isnull().sum()"
   ]
  },
  {
   "cell_type": "code",
   "execution_count": 6,
   "metadata": {
    "execution": {
     "iopub.execute_input": "2021-12-06T02:05:30.714473Z",
     "iopub.status.busy": "2021-12-06T02:05:30.714131Z",
     "iopub.status.idle": "2021-12-06T02:05:30.938301Z",
     "shell.execute_reply": "2021-12-06T02:05:30.937454Z",
     "shell.execute_reply.started": "2021-12-06T02:05:30.714432Z"
    }
   },
   "outputs": [
    {
     "data": {
      "text/html": [
       "<div>\n",
       "<style scoped>\n",
       "    .dataframe tbody tr th:only-of-type {\n",
       "        vertical-align: middle;\n",
       "    }\n",
       "\n",
       "    .dataframe tbody tr th {\n",
       "        vertical-align: top;\n",
       "    }\n",
       "\n",
       "    .dataframe thead th {\n",
       "        text-align: right;\n",
       "    }\n",
       "</style>\n",
       "<table border=\"1\" class=\"dataframe\">\n",
       "  <thead>\n",
       "    <tr style=\"text-align: right;\">\n",
       "      <th></th>\n",
       "      <th>open</th>\n",
       "      <th>close</th>\n",
       "      <th>low</th>\n",
       "      <th>high</th>\n",
       "      <th>volume</th>\n",
       "    </tr>\n",
       "  </thead>\n",
       "  <tbody>\n",
       "    <tr>\n",
       "      <th>count</th>\n",
       "      <td>851264.000000</td>\n",
       "      <td>851264.000000</td>\n",
       "      <td>851264.000000</td>\n",
       "      <td>851264.000000</td>\n",
       "      <td>8.512640e+05</td>\n",
       "    </tr>\n",
       "    <tr>\n",
       "      <th>mean</th>\n",
       "      <td>70.836986</td>\n",
       "      <td>70.857109</td>\n",
       "      <td>70.118414</td>\n",
       "      <td>71.543476</td>\n",
       "      <td>5.415113e+06</td>\n",
       "    </tr>\n",
       "    <tr>\n",
       "      <th>std</th>\n",
       "      <td>83.695876</td>\n",
       "      <td>83.689686</td>\n",
       "      <td>82.877294</td>\n",
       "      <td>84.465504</td>\n",
       "      <td>1.249468e+07</td>\n",
       "    </tr>\n",
       "    <tr>\n",
       "      <th>min</th>\n",
       "      <td>0.850000</td>\n",
       "      <td>0.860000</td>\n",
       "      <td>0.830000</td>\n",
       "      <td>0.880000</td>\n",
       "      <td>0.000000e+00</td>\n",
       "    </tr>\n",
       "    <tr>\n",
       "      <th>25%</th>\n",
       "      <td>33.840000</td>\n",
       "      <td>33.849998</td>\n",
       "      <td>33.480000</td>\n",
       "      <td>34.189999</td>\n",
       "      <td>1.221500e+06</td>\n",
       "    </tr>\n",
       "    <tr>\n",
       "      <th>50%</th>\n",
       "      <td>52.770000</td>\n",
       "      <td>52.799999</td>\n",
       "      <td>52.230000</td>\n",
       "      <td>53.310001</td>\n",
       "      <td>2.476250e+06</td>\n",
       "    </tr>\n",
       "    <tr>\n",
       "      <th>75%</th>\n",
       "      <td>79.879997</td>\n",
       "      <td>79.889999</td>\n",
       "      <td>79.110001</td>\n",
       "      <td>80.610001</td>\n",
       "      <td>5.222500e+06</td>\n",
       "    </tr>\n",
       "    <tr>\n",
       "      <th>max</th>\n",
       "      <td>1584.439941</td>\n",
       "      <td>1578.130005</td>\n",
       "      <td>1549.939941</td>\n",
       "      <td>1600.930054</td>\n",
       "      <td>8.596434e+08</td>\n",
       "    </tr>\n",
       "  </tbody>\n",
       "</table>\n",
       "</div>"
      ],
      "text/plain": [
       "                open          close            low           high  \\\n",
       "count  851264.000000  851264.000000  851264.000000  851264.000000   \n",
       "mean       70.836986      70.857109      70.118414      71.543476   \n",
       "std        83.695876      83.689686      82.877294      84.465504   \n",
       "min         0.850000       0.860000       0.830000       0.880000   \n",
       "25%        33.840000      33.849998      33.480000      34.189999   \n",
       "50%        52.770000      52.799999      52.230000      53.310001   \n",
       "75%        79.879997      79.889999      79.110001      80.610001   \n",
       "max      1584.439941    1578.130005    1549.939941    1600.930054   \n",
       "\n",
       "             volume  \n",
       "count  8.512640e+05  \n",
       "mean   5.415113e+06  \n",
       "std    1.249468e+07  \n",
       "min    0.000000e+00  \n",
       "25%    1.221500e+06  \n",
       "50%    2.476250e+06  \n",
       "75%    5.222500e+06  \n",
       "max    8.596434e+08  "
      ]
     },
     "execution_count": 6,
     "metadata": {},
     "output_type": "execute_result"
    }
   ],
   "source": [
    "df.describe()\n"
   ]
  },
  {
   "cell_type": "code",
   "execution_count": 7,
   "metadata": {
    "execution": {
     "iopub.execute_input": "2021-12-06T02:05:37.778953Z",
     "iopub.status.busy": "2021-12-06T02:05:37.778008Z",
     "iopub.status.idle": "2021-12-06T02:05:37.785472Z",
     "shell.execute_reply": "2021-12-06T02:05:37.784795Z",
     "shell.execute_reply.started": "2021-12-06T02:05:37.778905Z"
    }
   },
   "outputs": [
    {
     "data": {
      "text/plain": [
       "(851264, 7)"
      ]
     },
     "execution_count": 7,
     "metadata": {},
     "output_type": "execute_result"
    }
   ],
   "source": [
    "df.shape"
   ]
  },
  {
   "cell_type": "code",
   "execution_count": 8,
   "metadata": {
    "execution": {
     "iopub.execute_input": "2021-12-06T02:06:22.434187Z",
     "iopub.status.busy": "2021-12-06T02:06:22.433895Z",
     "iopub.status.idle": "2021-12-06T02:06:22.508442Z",
     "shell.execute_reply": "2021-12-06T02:06:22.507483Z",
     "shell.execute_reply.started": "2021-12-06T02:06:22.434156Z"
    }
   },
   "outputs": [
    {
     "data": {
      "text/plain": [
       "501"
      ]
     },
     "execution_count": 8,
     "metadata": {},
     "output_type": "execute_result"
    }
   ],
   "source": [
    "df['symbol'].nunique()"
   ]
  },
  {
   "cell_type": "code",
   "execution_count": 9,
   "metadata": {
    "execution": {
     "iopub.execute_input": "2021-12-06T02:07:11.780270Z",
     "iopub.status.busy": "2021-12-06T02:07:11.779934Z",
     "iopub.status.idle": "2021-12-06T02:07:11.918740Z",
     "shell.execute_reply": "2021-12-06T02:07:11.917706Z",
     "shell.execute_reply.started": "2021-12-06T02:07:11.780229Z"
    }
   },
   "outputs": [],
   "source": [
    "df1=df[df['symbol']=='AMZN']"
   ]
  },
  {
   "cell_type": "code",
   "execution_count": 10,
   "metadata": {
    "execution": {
     "iopub.execute_input": "2021-12-06T02:07:20.247777Z",
     "iopub.status.busy": "2021-12-06T02:07:20.247143Z",
     "iopub.status.idle": "2021-12-06T02:07:20.263009Z",
     "shell.execute_reply": "2021-12-06T02:07:20.261859Z",
     "shell.execute_reply.started": "2021-12-06T02:07:20.247711Z"
    }
   },
   "outputs": [
    {
     "data": {
      "text/html": [
       "<div>\n",
       "<style scoped>\n",
       "    .dataframe tbody tr th:only-of-type {\n",
       "        vertical-align: middle;\n",
       "    }\n",
       "\n",
       "    .dataframe tbody tr th {\n",
       "        vertical-align: top;\n",
       "    }\n",
       "\n",
       "    .dataframe thead th {\n",
       "        text-align: right;\n",
       "    }\n",
       "</style>\n",
       "<table border=\"1\" class=\"dataframe\">\n",
       "  <thead>\n",
       "    <tr style=\"text-align: right;\">\n",
       "      <th></th>\n",
       "      <th>date</th>\n",
       "      <th>symbol</th>\n",
       "      <th>open</th>\n",
       "      <th>close</th>\n",
       "      <th>low</th>\n",
       "      <th>high</th>\n",
       "      <th>volume</th>\n",
       "    </tr>\n",
       "  </thead>\n",
       "  <tbody>\n",
       "    <tr>\n",
       "      <th>284</th>\n",
       "      <td>2010-01-04</td>\n",
       "      <td>AMZN</td>\n",
       "      <td>136.250000</td>\n",
       "      <td>133.899994</td>\n",
       "      <td>133.139999</td>\n",
       "      <td>136.610001</td>\n",
       "      <td>7599900.0</td>\n",
       "    </tr>\n",
       "    <tr>\n",
       "      <th>751</th>\n",
       "      <td>2010-01-05</td>\n",
       "      <td>AMZN</td>\n",
       "      <td>133.429993</td>\n",
       "      <td>134.690002</td>\n",
       "      <td>131.809998</td>\n",
       "      <td>135.479996</td>\n",
       "      <td>8851900.0</td>\n",
       "    </tr>\n",
       "    <tr>\n",
       "      <th>1219</th>\n",
       "      <td>2010-01-06</td>\n",
       "      <td>AMZN</td>\n",
       "      <td>134.600006</td>\n",
       "      <td>132.250000</td>\n",
       "      <td>131.649994</td>\n",
       "      <td>134.729996</td>\n",
       "      <td>7178800.0</td>\n",
       "    </tr>\n",
       "    <tr>\n",
       "      <th>1687</th>\n",
       "      <td>2010-01-07</td>\n",
       "      <td>AMZN</td>\n",
       "      <td>132.009995</td>\n",
       "      <td>130.000000</td>\n",
       "      <td>128.800003</td>\n",
       "      <td>132.320007</td>\n",
       "      <td>11030200.0</td>\n",
       "    </tr>\n",
       "    <tr>\n",
       "      <th>2155</th>\n",
       "      <td>2010-01-08</td>\n",
       "      <td>AMZN</td>\n",
       "      <td>130.559998</td>\n",
       "      <td>133.520004</td>\n",
       "      <td>129.029999</td>\n",
       "      <td>133.679993</td>\n",
       "      <td>9830500.0</td>\n",
       "    </tr>\n",
       "  </tbody>\n",
       "</table>\n",
       "</div>"
      ],
      "text/plain": [
       "            date symbol        open       close         low        high  \\\n",
       "284   2010-01-04   AMZN  136.250000  133.899994  133.139999  136.610001   \n",
       "751   2010-01-05   AMZN  133.429993  134.690002  131.809998  135.479996   \n",
       "1219  2010-01-06   AMZN  134.600006  132.250000  131.649994  134.729996   \n",
       "1687  2010-01-07   AMZN  132.009995  130.000000  128.800003  132.320007   \n",
       "2155  2010-01-08   AMZN  130.559998  133.520004  129.029999  133.679993   \n",
       "\n",
       "          volume  \n",
       "284    7599900.0  \n",
       "751    8851900.0  \n",
       "1219   7178800.0  \n",
       "1687  11030200.0  \n",
       "2155   9830500.0  "
      ]
     },
     "execution_count": 10,
     "metadata": {},
     "output_type": "execute_result"
    }
   ],
   "source": [
    "df1.head()"
   ]
  },
  {
   "cell_type": "code",
   "execution_count": 11,
   "metadata": {
    "execution": {
     "iopub.execute_input": "2021-12-06T02:07:30.962293Z",
     "iopub.status.busy": "2021-12-06T02:07:30.961614Z",
     "iopub.status.idle": "2021-12-06T02:07:30.971091Z",
     "shell.execute_reply": "2021-12-06T02:07:30.970457Z",
     "shell.execute_reply.started": "2021-12-06T02:07:30.962260Z"
    }
   },
   "outputs": [
    {
     "name": "stderr",
     "output_type": "stream",
     "text": [
      "C:\\Users\\nazia\\AppData\\Local\\Temp/ipykernel_13576/3008891578.py:1: FutureWarning: Dropping of nuisance columns in DataFrame reductions (with 'numeric_only=None') is deprecated; in a future version this will raise TypeError.  Select only valid columns before calling the reduction.\n",
      "  np.round(df1.median(),2)\n"
     ]
    },
    {
     "data": {
      "text/plain": [
       "open          282.50\n",
       "close         282.92\n",
       "low           279.87\n",
       "high          285.07\n",
       "volume    3890700.00\n",
       "dtype: float64"
      ]
     },
     "execution_count": 11,
     "metadata": {},
     "output_type": "execute_result"
    }
   ],
   "source": [
    "np.round(df1.median(),2)"
   ]
  },
  {
   "cell_type": "code",
   "execution_count": 12,
   "metadata": {
    "execution": {
     "iopub.execute_input": "2021-12-06T02:08:08.484383Z",
     "iopub.status.busy": "2021-12-06T02:08:08.484102Z",
     "iopub.status.idle": "2021-12-06T02:08:08.496292Z",
     "shell.execute_reply": "2021-12-06T02:08:08.494475Z",
     "shell.execute_reply.started": "2021-12-06T02:08:08.484352Z"
    }
   },
   "outputs": [
    {
     "name": "stderr",
     "output_type": "stream",
     "text": [
      "C:\\Users\\nazia\\AppData\\Local\\Temp/ipykernel_13576/3454300950.py:1: SettingWithCopyWarning: \n",
      "A value is trying to be set on a copy of a slice from a DataFrame.\n",
      "Try using .loc[row_indexer,col_indexer] = value instead\n",
      "\n",
      "See the caveats in the documentation: https://pandas.pydata.org/pandas-docs/stable/user_guide/indexing.html#returning-a-view-versus-a-copy\n",
      "  df1['date']=pd.to_datetime(df1['date'])\n"
     ]
    }
   ],
   "source": [
    "df1['date']=pd.to_datetime(df1['date'])"
   ]
  },
  {
   "cell_type": "code",
   "execution_count": 13,
   "metadata": {
    "execution": {
     "iopub.execute_input": "2021-12-06T02:08:31.730547Z",
     "iopub.status.busy": "2021-12-06T02:08:31.729990Z",
     "iopub.status.idle": "2021-12-06T02:08:31.736885Z",
     "shell.execute_reply": "2021-12-06T02:08:31.735974Z",
     "shell.execute_reply.started": "2021-12-06T02:08:31.730501Z"
    }
   },
   "outputs": [
    {
     "name": "stdout",
     "output_type": "stream",
     "text": [
      "Minimum date value : 2010-01-04 00:00:00\n",
      "Maximum date value : 2016-12-30 00:00:00\n"
     ]
    }
   ],
   "source": [
    "print(\"Minimum date value : {}\".format(df1['date'].min()))\n",
    "print(\"Maximum date value : {}\".format(df1['date'].max()))"
   ]
  },
  {
   "cell_type": "code",
   "execution_count": 14,
   "metadata": {
    "execution": {
     "iopub.execute_input": "2021-12-06T02:09:02.077607Z",
     "iopub.status.busy": "2021-12-06T02:09:02.077143Z",
     "iopub.status.idle": "2021-12-06T02:09:02.089290Z",
     "shell.execute_reply": "2021-12-06T02:09:02.088360Z",
     "shell.execute_reply.started": "2021-12-06T02:09:02.077558Z"
    }
   },
   "outputs": [
    {
     "name": "stderr",
     "output_type": "stream",
     "text": [
      "C:\\Users\\nazia\\Anaconda3\\lib\\site-packages\\pandas\\core\\frame.py:4906: SettingWithCopyWarning: \n",
      "A value is trying to be set on a copy of a slice from a DataFrame\n",
      "\n",
      "See the caveats in the documentation: https://pandas.pydata.org/pandas-docs/stable/user_guide/indexing.html#returning-a-view-versus-a-copy\n",
      "  return super().drop(\n"
     ]
    }
   ],
   "source": [
    "df1.drop(['symbol'], axis=1, inplace=True)"
   ]
  },
  {
   "cell_type": "code",
   "execution_count": 15,
   "metadata": {
    "execution": {
     "iopub.execute_input": "2021-12-06T02:09:21.586127Z",
     "iopub.status.busy": "2021-12-06T02:09:21.585781Z",
     "iopub.status.idle": "2021-12-06T02:09:21.597971Z",
     "shell.execute_reply": "2021-12-06T02:09:21.597152Z",
     "shell.execute_reply.started": "2021-12-06T02:09:21.586077Z"
    }
   },
   "outputs": [
    {
     "data": {
      "text/plain": [
       "open      0.999581\n",
       "close     1.000000\n",
       "low       0.999832\n",
       "high      0.999811\n",
       "volume   -0.238560\n",
       "Name: close, dtype: float64"
      ]
     },
     "execution_count": 15,
     "metadata": {},
     "output_type": "execute_result"
    }
   ],
   "source": [
    "df1.corr()['close']"
   ]
  },
  {
   "cell_type": "code",
   "execution_count": 16,
   "metadata": {
    "execution": {
     "iopub.execute_input": "2021-12-06T02:10:42.366019Z",
     "iopub.status.busy": "2021-12-06T02:10:42.365024Z",
     "iopub.status.idle": "2021-12-06T02:10:42.744374Z",
     "shell.execute_reply": "2021-12-06T02:10:42.743468Z",
     "shell.execute_reply.started": "2021-12-06T02:10:42.365954Z"
    }
   },
   "outputs": [
    {
     "data": {
      "text/plain": [
       "<AxesSubplot:>"
      ]
     },
     "execution_count": 16,
     "metadata": {},
     "output_type": "execute_result"
    },
    {
     "data": {
      "image/png": "[encoded data removed]",
      "text/plain": [
       "<Figure size 1080x576 with 2 Axes>"
      ]
     },
     "metadata": {
      "needs_background": "light"
     },
     "output_type": "display_data"
    }
   ],
   "source": [
    "import matplotlib.pyplot as plt\n",
    "import seaborn as sns\n",
    "import matplotlib.dates as mdates\n",
    "colors = ['#FF9900','#000000']\n",
    "fig=plt.figure(figsize=(15,8))\n",
    "sns.heatmap(df1.corr(), annot=True, cmap=[colors[0],colors[1]], linecolor='white', linewidth=2 )"
   ]
  },
  {
   "cell_type": "code",
   "execution_count": 17,
   "metadata": {
    "execution": {
     "iopub.execute_input": "2021-12-06T02:11:13.198890Z",
     "iopub.status.busy": "2021-12-06T02:11:13.198480Z",
     "iopub.status.idle": "2021-12-06T02:11:13.204280Z",
     "shell.execute_reply": "2021-12-06T02:11:13.203465Z",
     "shell.execute_reply.started": "2021-12-06T02:11:13.198858Z"
    }
   },
   "outputs": [],
   "source": [
    "X=df1[['volume','open']]\n",
    "y=df1['close']"
   ]
  },
  {
   "cell_type": "code",
   "execution_count": 18,
   "metadata": {
    "execution": {
     "iopub.execute_input": "2021-12-06T02:11:23.060243Z",
     "iopub.status.busy": "2021-12-06T02:11:23.059745Z",
     "iopub.status.idle": "2021-12-06T02:11:23.249877Z",
     "shell.execute_reply": "2021-12-06T02:11:23.248926Z",
     "shell.execute_reply.started": "2021-12-06T02:11:23.060208Z"
    }
   },
   "outputs": [],
   "source": [
    "from sklearn.model_selection import train_test_split\n",
    "X_train, X_test, y_train, y_test = train_test_split(X,y, test_size=0.3, shuffle=False, random_state=42)"
   ]
  },
  {
   "cell_type": "code",
   "execution_count": 19,
   "metadata": {
    "execution": {
     "iopub.execute_input": "2021-12-06T02:11:33.003780Z",
     "iopub.status.busy": "2021-12-06T02:11:33.003468Z",
     "iopub.status.idle": "2021-12-06T02:11:33.015987Z",
     "shell.execute_reply": "2021-12-06T02:11:33.015088Z",
     "shell.execute_reply.started": "2021-12-06T02:11:33.003748Z"
    }
   },
   "outputs": [],
   "source": [
    "from sklearn.preprocessing import StandardScaler\n",
    "scaler = StandardScaler()\n",
    "X_train = scaler.fit_transform(X_train)\n",
    "X_test =scaler.transform(X_test)"
   ]
  },
  {
   "cell_type": "code",
   "execution_count": 20,
   "metadata": {
    "execution": {
     "iopub.execute_input": "2021-12-06T02:14:12.596147Z",
     "iopub.status.busy": "2021-12-06T02:14:12.595285Z",
     "iopub.status.idle": "2021-12-06T02:14:12.713138Z",
     "shell.execute_reply": "2021-12-06T02:14:12.712200Z",
     "shell.execute_reply.started": "2021-12-06T02:14:12.596102Z"
    }
   },
   "outputs": [],
   "source": [
    "from sklearn.linear_model import LinearRegression\n",
    "from sklearn.metrics import r2_score, mean_squared_error, mean_absolute_error\n",
    "from sklearn import set_config\n",
    "model = LinearRegression()\n",
    "model.fit(X_train,y_train)\n",
    "#set_config(display='diagram')\n",
    "pred=model.predict(X_test)\n",
    "sc=np.round(model.score(X_test, y_test),2) * 100\n",
    "r2=np.round(r2_score(y_test,pred),2)\n",
    "mse=np.round(mean_squared_error(y_test,pred),2)\n",
    "mae=np.round(mean_squared_error(y_test,pred),2)"
   ]
  },
  {
   "cell_type": "code",
   "execution_count": 21,
   "metadata": {
    "execution": {
     "iopub.execute_input": "2021-12-06T02:17:11.292722Z",
     "iopub.status.busy": "2021-12-06T02:17:11.292082Z",
     "iopub.status.idle": "2021-12-06T02:17:11.300805Z",
     "shell.execute_reply": "2021-12-06T02:17:11.299840Z",
     "shell.execute_reply.started": "2021-12-06T02:17:11.292676Z"
    }
   },
   "outputs": [
    {
     "name": "stdout",
     "output_type": "stream",
     "text": [
      "R2 score:  1.0\n",
      "Accuracy score:  100.0\n",
      "MAE:  66.39\n",
      "MSE:  66.39\n"
     ]
    }
   ],
   "source": [
    "print(\"R2 score: \", r2 )\n",
    "print(\"Accuracy score: \", sc )\n",
    "print(\"MAE: \", mae )\n",
    "print(\"MSE: \", mse)\n"
   ]
  },
  {
   "cell_type": "code",
   "execution_count": 22,
   "metadata": {
    "execution": {
     "iopub.execute_input": "2021-12-06T02:14:24.326678Z",
     "iopub.status.busy": "2021-12-06T02:14:24.326226Z",
     "iopub.status.idle": "2021-12-06T02:14:24.657613Z",
     "shell.execute_reply": "2021-12-06T02:14:24.656574Z",
     "shell.execute_reply.started": "2021-12-06T02:14:24.326644Z"
    }
   },
   "outputs": [
    {
     "data": {
      "text/plain": [
       "Text(800000, 540, 'Mean Absolute error : 66.39')"
      ]
     },
     "execution_count": 22,
     "metadata": {},
     "output_type": "execute_result"
    },
    {
     "data": {
      "image/png": "[encoded data removed]",
      "text/plain": [
       "<Figure size 1080x576 with 1 Axes>"
      ]
     },
     "metadata": {
      "needs_background": "light"
     },
     "output_type": "display_data"
    }
   ],
   "source": [
    "fig=plt.figure(figsize=(15,8))\n",
    "p=pd.Series(pred, index=y_test.index)\n",
    "plt.plot(y_test)\n",
    "plt.plot(p)\n",
    "plt.legend(['y_test','predicted'])\n",
    "plt.title(\"Compare: Test and Predicted values [AMAZON]\", size=20, weight='bold')\n",
    "plt.text(x=800000, y=600,s='Accuracy score : {} %'.format(sc))\n",
    "plt.text(x=800000, y=580,s='R2 Score : {}'.format(r2))\n",
    "plt.text(x=800000, y=560,s='Mean Squared error : {}'.format(mse))\n",
    "plt.text(x=800000, y=540,s='Mean Absolute error : {}'.format(mae))\n"
   ]
  },
  {
   "cell_type": "code",
   "execution_count": null,
   "metadata": {},
   "outputs": [],
   "source": []
  },
  {
   "cell_type": "code",
   "execution_count": null,
   "metadata": {},
   "outputs": [],
   "source": []
  },
  {
   "cell_type": "code",
   "execution_count": null,
   "metadata": {},
   "outputs": [],
   "source": []
  },
  {
   "cell_type": "code",
   "execution_count": null,
   "metadata": {},
   "outputs": [],
   "source": []
  },
  {
   "cell_type": "code",
   "execution_count": null,
   "metadata": {},
   "outputs": [],
   "source": []
  }
 ],
 "metadata": {
  "kernelspec": {
   "display_name": "Python 3 (ipykernel)",
   "language": "python",
   "name": "python3"
  },
  "language_info": {
   "codemirror_mode": {
    "name": "ipython",
    "version": 3
   },
   "file_extension": ".py",
   "mimetype": "text/x-python",
   "name": "python",
   "nbconvert_exporter": "python",
   "pygments_lexer": "ipython3",
   "version": "3.8.8"
  }
 },
 "nbformat": 4,
 "nbformat_minor": 4
}
